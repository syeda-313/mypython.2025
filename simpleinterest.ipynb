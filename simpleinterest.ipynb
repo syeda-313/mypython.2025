{
  "nbformat": 4,
  "nbformat_minor": 0,
  "metadata": {
    "colab": {
      "provenance": []
    },
    "kernelspec": {
      "name": "python3",
      "display_name": "Python 3"
    },
    "language_info": {
      "name": "python"
    }
  },
  "cells": [
    {
      "cell_type": "code",
      "execution_count": null,
      "metadata": {
        "colab": {
          "base_uri": "https://localhost:8080/"
        },
        "id": "giO9ZpTeT2XH",
        "outputId": "e67f796a-d472-4679-fd2a-8cb7a5343935"
      },
      "outputs": [
        {
          "output_type": "stream",
          "name": "stdout",
          "text": [
            "enter a2\n",
            "enter b3\n",
            "addition=a+b 5\n",
            "multiplication=a*b 6\n",
            "difference=a-b -1\n",
            "division=a/b 0.6666666666666666\n"
          ]
        }
      ],
      "source": [
        "a=int(input(\"enter a\"))\n",
        "b= int (input(\"enter b\"))\n",
        "print(\"addition=a+b\",a+b)\n",
        "print(\"multiplication=a*b\",a*b)\n",
        "print(\"difference=a-b\",a-b)\n",
        "print(\"division=a/b\",a/b)"
      ]
    },
    {
      "cell_type": "code",
      "source": [
        "r=float (input(\"enter radius of circle\"))\n",
        "area= 3.142*r*r\n",
        "print(\"area of circle\",3.142*r*r)\n",
        "\n"
      ],
      "metadata": {
        "colab": {
          "base_uri": "https://localhost:8080/"
        },
        "id": "y4OUGC3sZYVu",
        "outputId": "9cd8cd28-df7c-4782-990f-36a391d9a2f1"
      },
      "execution_count": null,
      "outputs": [
        {
          "output_type": "stream",
          "name": "stdout",
          "text": [
            "enter radius of circle32\n",
            "area of circle 3217.408\n"
          ]
        }
      ]
    },
    {
      "cell_type": "code",
      "source": [
        "principalamount= int(input(\"enter amount\"))\n",
        "years=int(input(\"enter years\"))\n",
        "rate_of_interest=float (input(\"enter  interest per annum\"))\n",
        "simple_interest=principalamount*years*rate_of_interest/100\n",
        "print(\"simple interest\", simple_interest)\n"
      ],
      "metadata": {
        "id": "GwiDTQhBblxC",
        "colab": {
          "base_uri": "https://localhost:8080/"
        },
        "outputId": "0c6835a2-b4f6-4497-e62e-a39f71238cc6"
      },
      "execution_count": 10,
      "outputs": [
        {
          "output_type": "stream",
          "name": "stdout",
          "text": [
            "enter amount200\n",
            "enter years21\n",
            "enter  interest per annum2000\n",
            "simple interest 84000.0\n"
          ]
        }
      ]
    }
  ]
}