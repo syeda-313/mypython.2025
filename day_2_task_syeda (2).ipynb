{
  "nbformat": 4,
  "nbformat_minor": 0,
  "metadata": {
    "colab": {
      "provenance": []
    },
    "kernelspec": {
      "name": "python3",
      "display_name": "Python 3"
    },
    "language_info": {
      "name": "python"
    }
  },
  "cells": [
    {
      "cell_type": "code",
      "execution_count": 1,
      "metadata": {
        "colab": {
          "base_uri": "https://localhost:8080/"
        },
        "id": "QCQw3XbWtaLo",
        "outputId": "968ddc71-2668-4f91-cc84-2e64eec80f0c"
      },
      "outputs": [
        {
          "output_type": "stream",
          "name": "stdout",
          "text": [
            "enter the marks:75\n",
            "grade:b\n"
          ]
        }
      ],
      "source": [
        "marks = int (input(\"enter the marks:\"))\n",
        "if marks>=90:\n",
        "   print(\"grade:A\")\n",
        "elif marks>=75 :\n",
        "   print(\"grade:b\")\n",
        "elif marks>=60:\n",
        "   print(\"grade:c\")\n",
        "else:\n",
        "   print(\"grade: F\")"
      ]
    },
    {
      "cell_type": "code",
      "source": [
        "num=int(input(\"enter the number:\"))\n",
        "if num%2==0:\n",
        "    print(\"even numner:\")\n",
        "else :\n",
        "  print(\"odd number:\")"
      ],
      "metadata": {
        "colab": {
          "base_uri": "https://localhost:8080/"
        },
        "id": "pgYKMnpWfkhO",
        "outputId": "361659f4-08b9-469c-c83f-1e76d7b27c2a"
      },
      "execution_count": 8,
      "outputs": [
        {
          "output_type": "stream",
          "name": "stdout",
          "text": [
            "enter the number:46\n",
            "even numner:\n"
          ]
        }
      ]
    },
    {
      "cell_type": "code",
      "source": [
        "# sum of first n number\n",
        "a=int(input(\"enter start range:\"))\n",
        "b= int (input(\"enter end range:\"))\n",
        "sum=0\n",
        "for i in range(a,b+1):\n",
        "  sum=sum+i\n",
        "  print(\"sum of first n number\",sum)"
      ],
      "metadata": {
        "colab": {
          "base_uri": "https://localhost:8080/"
        },
        "id": "jIYZHgjhjeR5",
        "outputId": "138fe9fc-e52d-4424-eb49-e2f98f415988"
      },
      "execution_count": 12,
      "outputs": [
        {
          "output_type": "stream",
          "name": "stdout",
          "text": [
            "enter start range:4\n",
            "enter end range:5\n",
            "sum of first n number 4\n",
            "sum of first n number 9\n"
          ]
        }
      ]
    },
    {
      "cell_type": "code",
      "source": [
        "# leap year\n",
        "year = int(input(\"enter the year:\"))\n",
        "if (year%4==0 and year%100!=0) or (year%400==0):\n",
        "  print(\"leap year:\")\n",
        "else:\n",
        "  print(\"not a leap year:\")"
      ],
      "metadata": {
        "colab": {
          "base_uri": "https://localhost:8080/"
        },
        "id": "BsbRRS8sljGB",
        "outputId": "a4c26ac6-ee84-4599-883a-9ed1869a929a"
      },
      "execution_count": 14,
      "outputs": [
        {
          "output_type": "stream",
          "name": "stdout",
          "text": [
            "enter the year:2026\n",
            "not a leap year:\n"
          ]
        }
      ]
    },
    {
      "cell_type": "code",
      "source": [
        "#factorial of a number\n",
        "a =int(input(\"enter a starting number:\"))\n",
        "b= int (input(\"enter a ending number:\"))\n",
        "factorial=1\n",
        "for i in range(a,b+1):\n",
        "  factorial = factorial*i\n",
        "  print(\"factorial of number:\",factorial)"
      ],
      "metadata": {
        "colab": {
          "base_uri": "https://localhost:8080/"
        },
        "id": "OdO4TvwpnxHQ",
        "outputId": "b8c1195e-b966-4680-f14c-180522513aa2"
      },
      "execution_count": 18,
      "outputs": [
        {
          "output_type": "stream",
          "name": "stdout",
          "text": [
            "enter a starting number:12\n",
            "enter a ending number:13\n",
            "factorial of number: 12\n",
            "factorial of number: 156\n"
          ]
        }
      ]
    },
    {
      "cell_type": "code",
      "source": [
        "#addition and substraction operation using if and elif\n",
        "a=int(input(\"enter the first number:\"))\n",
        "b=int(input(\"enter the second number:\"))\n",
        "operation= input(\"enter the operation\")\n",
        "if  operation == '+':\n",
        "  print(\"addition\",a+b)\n",
        "elif operation == '-':\n",
        "  print(\"substraction\",a-b)"
      ],
      "metadata": {
        "colab": {
          "base_uri": "https://localhost:8080/"
        },
        "id": "D8G9deZnpYNx",
        "outputId": "f17ec92d-fd6b-4453-97a7-7941891b4154"
      },
      "execution_count": 23,
      "outputs": [
        {
          "output_type": "stream",
          "name": "stdout",
          "text": [
            "enter the first number:2\n",
            "enter the second number:4\n",
            "enter the operation+\n",
            "addition 6\n"
          ]
        }
      ]
    },
    {
      "cell_type": "code",
      "source": [
        "#check positivity of number\n",
        "a=int(input(\"enter the number:\"))\n",
        "if a>0:\n",
        "  print(\"positive number\")\n",
        "elif a<0:\n",
        "  print(\"negative numner\")"
      ],
      "metadata": {
        "colab": {
          "base_uri": "https://localhost:8080/"
        },
        "id": "Uvp-9uvVsAiZ",
        "outputId": "a0fb0159-07d3-4749-b4aa-fa6b47c4ea34"
      },
      "execution_count": 25,
      "outputs": [
        {
          "output_type": "stream",
          "name": "stdout",
          "text": [
            "enter the number:2\n",
            "positive number\n"
          ]
        }
      ]
    },
    {
      "cell_type": "code",
      "source": [
        "# multiplication table\n",
        "a= int(input(\"enter the number:\"))\n",
        "for i in range(1,11):\n",
        "   print(a,\"*\",i,\"=\",a*i)\n"
      ],
      "metadata": {
        "colab": {
          "base_uri": "https://localhost:8080/"
        },
        "id": "uBFOJkiLrise",
        "outputId": "742f1f9e-93ed-4cec-8758-2c4b1583ffdb"
      },
      "execution_count": 27,
      "outputs": [
        {
          "output_type": "stream",
          "name": "stdout",
          "text": [
            "enter the number:10\n",
            "10 * 1 = 10\n",
            "10 * 2 = 20\n",
            "10 * 3 = 30\n",
            "10 * 4 = 40\n",
            "10 * 5 = 50\n",
            "10 * 6 = 60\n",
            "10 * 7 = 70\n",
            "10 * 8 = 80\n",
            "10 * 9 = 90\n",
            "10 * 10 = 100\n"
          ]
        }
      ]
    },
    {
      "cell_type": "code",
      "source": [
        "# sum of even number\n",
        "def sum_of_even_numbers(n):\n",
        "   total =0\n",
        "   for i in range(1,n+1):\n",
        "    if i% 2 ==0:\n",
        "        total += i\n",
        "    return total"
      ],
      "metadata": {
        "id": "Rw1anhNjuh3L"
      },
      "execution_count": 43,
      "outputs": []
    },
    {
      "cell_type": "code",
      "source": [
        "# largest  of three  numbers\n",
        "a= int (input(\"enter the first number:\"))\n",
        "b= int (input(\"enter the second number:\"))\n",
        "c= int( input(\"enter the third number:\"))\n",
        "if a>b and a>c:\n",
        "  print(\"largest number:a\")\n",
        "elif b>a and b>c:\n",
        "  print(\"largest number:b\")\n",
        "else :\n",
        "  print(\"largest number:c\")\n"
      ],
      "metadata": {
        "colab": {
          "base_uri": "https://localhost:8080/"
        },
        "id": "nFNTaZkFwPWs",
        "outputId": "fb0834f1-d35a-4d34-a50a-fb13dacc2763"
      },
      "execution_count": 44,
      "outputs": [
        {
          "output_type": "stream",
          "name": "stdout",
          "text": [
            "enter the first number:2\n",
            "enter the second number:4\n",
            "enter the third number:5\n",
            "largest number:c\n"
          ]
        }
      ]
    },
    {
      "cell_type": "code",
      "source": [
        "#palindrome\n",
        "a= input(\"enter a number:\")\n",
        "if a == a[::-1]:\n",
        "  print(\"it is a palindrome:\")\n",
        "else:\n",
        "    print(\"it is not a palindrome:\")"
      ],
      "metadata": {
        "colab": {
          "base_uri": "https://localhost:8080/"
        },
        "id": "BQ2au9sZyxu4",
        "outputId": "b01b03f1-4c38-46a8-a20f-4815b0c67d2b"
      },
      "execution_count": 53,
      "outputs": [
        {
          "output_type": "stream",
          "name": "stdout",
          "text": [
            "enter a number:5\n",
            "it is a palindrome:\n"
          ]
        }
      ]
    },
    {
      "cell_type": "code",
      "source": [
        "#reverse a number\n",
        "num= int(input(\"enter the number:\"))\n",
        "\n",
        "    rev_num= int(str(num)[::-1])\n",
        "\n",
        "      print(\" number in reverse order: {rev_num}\")"
      ],
      "metadata": {
        "colab": {
          "base_uri": "https://localhost:8080/",
          "height": 106
        },
        "id": "5huRb4BA1KuF",
        "outputId": "bb451303-0c73-413d-b9a4-304acfd560c8"
      },
      "execution_count": 67,
      "outputs": [
        {
          "output_type": "error",
          "ename": "IndentationError",
          "evalue": "unexpected indent (<ipython-input-67-413fe7806318>, line 4)",
          "traceback": [
            "\u001b[0;36m  File \u001b[0;32m\"<ipython-input-67-413fe7806318>\"\u001b[0;36m, line \u001b[0;32m4\u001b[0m\n\u001b[0;31m    rev_num= int(str(num)[::-1])\u001b[0m\n\u001b[0m    ^\u001b[0m\n\u001b[0;31mIndentationError\u001b[0m\u001b[0;31m:\u001b[0m unexpected indent\n"
          ]
        }
      ]
    },
    {
      "cell_type": "code",
      "source": [
        "# sum of digits\n",
        "a = int(input(\"enter a digit\"))\n",
        "b= int(input(\"enter a digit\"))\n",
        "sum = a+b\n",
        "print(\"sum of digits\",sum)"
      ],
      "metadata": {
        "colab": {
          "base_uri": "https://localhost:8080/"
        },
        "id": "h7s9hJk26Dp0",
        "outputId": "9de30690-3fe4-40e2-d6d0-9c3401066904"
      },
      "execution_count": 68,
      "outputs": [
        {
          "output_type": "stream",
          "name": "stdout",
          "text": [
            "enter a digit2\n",
            "enter a digit3\n",
            "sum of digits 5\n"
          ]
        }
      ]
    },
    {
      "cell_type": "code",
      "source": [
        "# armstrong number\n",
        "num = 234\n",
        "sum = 0\n",
        "temp = num\n",
        "while temp>0:\n",
        "  digit= temp%10\n",
        "  sum += digit**3\n",
        "  temp//=10\n",
        "# armstrong number\n",
        "num = 234\n",
        "sum = 0\n",
        "temp = num\n",
        "while temp>0:\n",
        "  digit= temp%10\n",
        "  sum += digit**3\n",
        "  temp//=10\n",
        "if num==sum:\n",
        "    print(sum,\"is an armstrong number\")\n",
        "else:\n",
        "    print(sum,\"is not an armstrong number\")"
      ],
      "metadata": {
        "colab": {
          "base_uri": "https://localhost:8080/"
        },
        "id": "cs0CZWbc7BqE",
        "outputId": "39d04579-b6af-412b-9b82-b4ddea1b7aa5"
      },
      "execution_count": 76,
      "outputs": [
        {
          "output_type": "stream",
          "name": "stdout",
          "text": [
            "99 is not an armstrong number\n"
          ]
        }
      ]
    },
    {
      "cell_type": "code",
      "source": [
        "#prime number check\n",
        "num=int (input(\"enter the number:\"))\n",
        "if num%5==0:\n",
        "  print(\"prime number:\")\n",
        "else :\n",
        "  print(\"not a prime number\")\n",
        "\n",
        ""
      ],
      "metadata": {
        "colab": {
          "base_uri": "https://localhost:8080/"
        },
        "id": "DMSE3oWz87yF",
        "outputId": "ed2b681a-ca89-49c4-bf67-ca6b0dc1b57e"
      },
      "execution_count": 82,
      "outputs": [
        {
          "output_type": "stream",
          "name": "stdout",
          "text": [
            "enter the number:6\n",
            "not a prime number\n"
          ]
        }
      ]
    },
    {
      "cell_type": "code",
      "source": [
        "#continue statement"
      ],
      "metadata": {
        "id": "08B_9CJCJVIn"
      },
      "execution_count": null,
      "outputs": []
    },
    {
      "cell_type": "code",
      "source": [
        "n = int(input(\"enter the number:\"))\n",
        "count =0\n",
        "while count<10:\n",
        "   if count ==7 :\n",
        "      continue\n",
        "   print(count)\n",
        "   count +=1"
      ],
      "metadata": {
        "colab": {
          "base_uri": "https://localhost:8080/",
          "height": 349
        },
        "id": "szHnB2Sl87pW",
        "outputId": "bc1e016f-85e2-4879-d895-8fa56b550d1a"
      },
      "execution_count": 1,
      "outputs": [
        {
          "output_type": "stream",
          "name": "stdout",
          "text": [
            "enter the number:4\n",
            "0\n",
            "1\n",
            "2\n",
            "3\n",
            "4\n",
            "5\n",
            "6\n"
          ]
        },
        {
          "output_type": "error",
          "ename": "KeyboardInterrupt",
          "evalue": "",
          "traceback": [
            "\u001b[0;31m---------------------------------------------------------------------------\u001b[0m",
            "\u001b[0;31mKeyboardInterrupt\u001b[0m                         Traceback (most recent call last)",
            "\u001b[0;32m<ipython-input-1-387843f6cedc>\u001b[0m in \u001b[0;36m<cell line: 0>\u001b[0;34m()\u001b[0m\n\u001b[1;32m      3\u001b[0m \u001b[0;32mwhile\u001b[0m \u001b[0mcount\u001b[0m\u001b[0;34m<\u001b[0m\u001b[0;36m10\u001b[0m\u001b[0;34m:\u001b[0m\u001b[0;34m\u001b[0m\u001b[0;34m\u001b[0m\u001b[0m\n\u001b[1;32m      4\u001b[0m    \u001b[0;32mif\u001b[0m \u001b[0mcount\u001b[0m \u001b[0;34m==\u001b[0m\u001b[0;36m7\u001b[0m \u001b[0;34m:\u001b[0m\u001b[0;34m\u001b[0m\u001b[0;34m\u001b[0m\u001b[0m\n\u001b[0;32m----> 5\u001b[0;31m       \u001b[0;32mcontinue\u001b[0m\u001b[0;34m\u001b[0m\u001b[0;34m\u001b[0m\u001b[0m\n\u001b[0m\u001b[1;32m      6\u001b[0m    \u001b[0mprint\u001b[0m\u001b[0;34m(\u001b[0m\u001b[0mcount\u001b[0m\u001b[0;34m)\u001b[0m\u001b[0;34m\u001b[0m\u001b[0;34m\u001b[0m\u001b[0m\n\u001b[1;32m      7\u001b[0m    \u001b[0mcount\u001b[0m \u001b[0;34m+=\u001b[0m\u001b[0;36m1\u001b[0m\u001b[0;34m\u001b[0m\u001b[0;34m\u001b[0m\u001b[0m\n",
            "\u001b[0;31mKeyboardInterrupt\u001b[0m: "
          ]
        }
      ]
    },
    {
      "cell_type": "code",
      "source": [
        "#break statements"
      ],
      "metadata": {
        "id": "Van48U09JbdK"
      },
      "execution_count": null,
      "outputs": []
    },
    {
      "cell_type": "code",
      "source": [
        "n = int(input(\"enter the number:\"))\n",
        "count =0\n",
        "while count<10:\n",
        "   if count ==7 :\n",
        "      break\n",
        "   print(count)\n",
        "   count +=1"
      ],
      "metadata": {
        "id": "FjEg4RZaHqS3",
        "outputId": "40ac36e8-699d-4531-87fe-c59226852f33",
        "colab": {
          "base_uri": "https://localhost:8080/"
        }
      },
      "execution_count": 2,
      "outputs": [
        {
          "output_type": "stream",
          "name": "stdout",
          "text": [
            "enter the number:2\n",
            "0\n",
            "1\n",
            "2\n",
            "3\n",
            "4\n",
            "5\n",
            "6\n"
          ]
        }
      ]
    },
    {
      "cell_type": "code",
      "source": [
        "#sum of square of two numbers"
      ],
      "metadata": {
        "id": "hEjkGpl9JkRE"
      },
      "execution_count": null,
      "outputs": []
    },
    {
      "cell_type": "code",
      "source": [
        "a= int(input(\"enter the number:\"))\n",
        "b= int (input(\"enter the number:\"))\n",
        "sum=a*a+b*b\n",
        "\n",
        "print(\"sum of square of number\",sum)"
      ],
      "metadata": {
        "id": "xZRwJT4LITHK",
        "outputId": "7f1ada2c-ff89-4119-8bc1-27f7c5eddb4c",
        "colab": {
          "base_uri": "https://localhost:8080/"
        }
      },
      "execution_count": 5,
      "outputs": [
        {
          "output_type": "stream",
          "name": "stdout",
          "text": [
            "enter the number:3\n",
            "enter the number:4\n",
            "sum of square of number 25\n"
          ]
        }
      ]
    }
  ]
}