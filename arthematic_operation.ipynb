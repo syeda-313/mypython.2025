{
  "nbformat": 4,
  "nbformat_minor": 0,
  "metadata": {
    "colab": {
      "provenance": []
    },
    "kernelspec": {
      "name": "python3",
      "display_name": "Python 3"
    },
    "language_info": {
      "name": "python"
    }
  },
  "cells": [
    {
      "cell_type": "code",
      "execution_count": 3,
      "metadata": {
        "colab": {
          "base_uri": "https://localhost:8080/"
        },
        "id": "giO9ZpTeT2XH",
        "outputId": "e67f796a-d472-4679-fd2a-8cb7a5343935"
      },
      "outputs": [
        {
          "output_type": "stream",
          "name": "stdout",
          "text": [
            "enter a2\n",
            "enter b3\n",
            "addition=a+b 5\n",
            "multiplication=a*b 6\n",
            "difference=a-b -1\n",
            "division=a/b 0.6666666666666666\n"
          ]
        }
      ],
      "source": [
        "a=int(input(\"enter a\"))\n",
        "b= int (input(\"enter b\"))\n",
        "print(\"addition=a+b\",a+b)\n",
        "print(\"multiplication=a*b\",a*b)\n",
        "print(\"difference=a-b\",a-b)\n",
        "print(\"division=a/b\",a/b)"
      ]
    }
  ]
}