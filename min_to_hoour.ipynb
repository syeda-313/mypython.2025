{
  "nbformat": 4,
  "nbformat_minor": 0,
  "metadata": {
    "colab": {
      "provenance": []
    },
    "kernelspec": {
      "name": "python3",
      "display_name": "Python 3"
    },
    "language_info": {
      "name": "python"
    }
  },
  "cells": [
    {
      "cell_type": "code",
      "execution_count": null,
      "metadata": {
        "colab": {
          "base_uri": "https://localhost:8080/"
        },
        "id": "giO9ZpTeT2XH",
        "outputId": "e67f796a-d472-4679-fd2a-8cb7a5343935"
      },
      "outputs": [
        {
          "output_type": "stream",
          "name": "stdout",
          "text": [
            "enter a2\n",
            "enter b3\n",
            "addition=a+b 5\n",
            "multiplication=a*b 6\n",
            "difference=a-b -1\n",
            "division=a/b 0.6666666666666666\n"
          ]
        }
      ],
      "source": [
        "a=int(input(\"enter a\"))\n",
        "b= int (input(\"enter b\"))\n",
        "print(\"addition=a+b\",a+b)\n",
        "print(\"multiplication=a*b\",a*b)\n",
        "print(\"difference=a-b\",a-b)\n",
        "print(\"division=a/b\",a/b)"
      ]
    },
    {
      "cell_type": "code",
      "source": [
        "r=float (input(\"enter radius of circle\"))\n",
        "area= 3.142*r*r\n",
        "print(\"area of circle\",3.142*r*r)\n",
        "\n"
      ],
      "metadata": {
        "colab": {
          "base_uri": "https://localhost:8080/"
        },
        "id": "y4OUGC3sZYVu",
        "outputId": "9cd8cd28-df7c-4782-990f-36a391d9a2f1"
      },
      "execution_count": null,
      "outputs": [
        {
          "output_type": "stream",
          "name": "stdout",
          "text": [
            "enter radius of circle32\n",
            "area of circle 3217.408\n"
          ]
        }
      ]
    },
    {
      "cell_type": "code",
      "source": [
        "principalamount= int(input(\"enter amount\"))\n",
        "years=int(input(\"enter years\"))\n",
        "rate_of_interest=float (input(\"enter  interest per annum\"))\n",
        "simple_interest=principalamount*years*rate_of_interest/100\n",
        "print(\"simple interest\", simple_interest)\n"
      ],
      "metadata": {
        "id": "GwiDTQhBblxC",
        "colab": {
          "base_uri": "https://localhost:8080/"
        },
        "outputId": "0c6835a2-b4f6-4497-e62e-a39f71238cc6"
      },
      "execution_count": 10,
      "outputs": [
        {
          "output_type": "stream",
          "name": "stdout",
          "text": [
            "enter amount200\n",
            "enter years21\n",
            "enter  interest per annum2000\n",
            "simple interest 84000.0\n"
          ]
        }
      ]
    },
    {
      "cell_type": "code",
      "source": [
        "l=int(input(\"enter length\"))\n",
        "b=int (input(\"enter breadth\"))\n",
        "area = l*b\n",
        "print (\"area of rectangle\",area)\n",
        "perimeter=2*(l+b)\n",
        "print(\"perimeter of recctangle\",perimeter)"
      ],
      "metadata": {
        "colab": {
          "base_uri": "https://localhost:8080/"
        },
        "id": "8PJYu-aubi8A",
        "outputId": "348cf23e-8888-4eac-f0e4-a97a1e58b78a"
      },
      "execution_count": 12,
      "outputs": [
        {
          "output_type": "stream",
          "name": "stdout",
          "text": [
            "enter length2\n",
            "enter breadth3\n",
            "area of rectangle 6\n",
            "perimeter of recctangle 10\n"
          ]
        }
      ]
    },
    {
      "cell_type": "code",
      "source": [
        "min = int (input(\"enter minutes\"))\n",
        "hour=min/60\n",
        "remaining_minutes=min%60\n",
        "print(\"hours\",hour)\n",
        "print(\"remaining minutes\",remaining_minutes)"
      ],
      "metadata": {
        "colab": {
          "base_uri": "https://localhost:8080/"
        },
        "id": "u8oKARd-cIMw",
        "outputId": "4778e704-5a3f-4a45-9d3a-cac7d6885ad8"
      },
      "execution_count": 15,
      "outputs": [
        {
          "output_type": "stream",
          "name": "stdout",
          "text": [
            "enter minutes12\n",
            "hours 0.2\n",
            "remaining minutes 12\n"
          ]
        }
      ]
    }
  ]
}