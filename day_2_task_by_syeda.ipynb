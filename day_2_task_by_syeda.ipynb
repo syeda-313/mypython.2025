{
  "nbformat": 4,
  "nbformat_minor": 0,
  "metadata": {
    "colab": {
      "provenance": [],
      "toc_visible": true
    },
    "kernelspec": {
      "name": "python3",
      "display_name": "Python 3"
    },
    "language_info": {
      "name": "python"
    }
  },
  "cells": [
    {
      "cell_type": "code",
      "execution_count": 2,
      "metadata": {
        "colab": {
          "base_uri": "https://localhost:8080/"
        },
        "id": "QCQw3XbWtaLo",
        "outputId": "45330b7c-3453-4470-8c8a-5c6cdf707983"
      },
      "outputs": [
        {
          "output_type": "stream",
          "name": "stdout",
          "text": [
            "Enter a number: 12\n",
            "12\n",
            "11\n",
            "10\n",
            "9\n",
            "8\n",
            "7\n",
            "6\n",
            "5\n",
            "4\n",
            "3\n",
            "2\n",
            "1\n"
          ]
        }
      ],
      "source": [
        "# print a number in reverse order\n",
        "\n",
        "def print_reverse_order(N):\n",
        "    while N >= 1:\n",
        "        print(N)\n",
        "        N -= 1\n",
        "\n",
        "\n",
        "N = int(input(\"Enter a number: \"))\n",
        "\n",
        "print_reverse_order(N)\n",
        "\n"
      ]
    },
    {
      "cell_type": "code",
      "source": [
        "#to check the given number is positive or not\n",
        "def is_perfect_number(number):\n",
        "    if number <= 0:\n",
        "        return False\n",
        "\n",
        "    divisors_sum = 0\n",
        "    for i in range(1, number):\n",
        "        if number % i == 0:\n",
        "            divisors_sum += i\n",
        "\n",
        "\n",
        "    if divisors_sum == number:\n",
        "        return True\n",
        "    else:\n",
        "        return False\n",
        "\n",
        "\n",
        "num = int(input(\"Enter a number: \"))\n",
        "\n",
        "\n",
        "if is_perfect_number(num):\n",
        "    print(f\"{num} is a perfect number.\")\n",
        "else:\n",
        "    print(f\"{num} is not a perfect number.\")\n"
      ],
      "metadata": {
        "id": "pgYKMnpWfkhO",
        "colab": {
          "base_uri": "https://localhost:8080/"
        },
        "outputId": "90b8d54f-5654-4dea-d79f-5271e5f641f6"
      },
      "execution_count": 3,
      "outputs": [
        {
          "output_type": "stream",
          "name": "stdout",
          "text": [
            "Enter a number: 24\n",
            "24 is not a perfect number.\n"
          ]
        }
      ]
    },
    {
      "cell_type": "code",
      "source": [
        "# pyramid or inverted pyramid\n",
        "def print_pyramid(n):\n",
        "    for i in range(1, n+1):\n",
        "\n",
        "        print(' ' * (n - i), end='')\n",
        "\n",
        "        print('*' * (2 * i - 1))\n",
        "\n",
        "\n",
        "n = int(input(\"Enter the number of rows for the pyramid: \"))\n",
        "print_pyramid(n)\n"
      ],
      "metadata": {
        "colab": {
          "base_uri": "https://localhost:8080/"
        },
        "id": "QVduSmpvlIQf",
        "outputId": "7042a80b-1c6c-44d7-b1ba-0622dcd335b1"
      },
      "execution_count": 4,
      "outputs": [
        {
          "output_type": "stream",
          "name": "stdout",
          "text": [
            "Enter the number of rows for the pyramid: 5\n",
            "    *\n",
            "   ***\n",
            "  *****\n",
            " *******\n",
            "*********\n"
          ]
        }
      ]
    },
    {
      "cell_type": "code",
      "source": [
        "# Function to find the GCD using loops\n",
        "# Function to find the GCD using loops\n",
        "def find_gcd(a, b):\n",
        "\n",
        "    min_num = min(a, b)\n",
        "\n",
        "\n",
        "    for i in range(min_num, 0, -1):\n",
        "\n",
        "        if a % i == 0 and b % i == 0:\n",
        "            return i\n",
        "\n",
        "\n",
        "num1 = int(input(\"Enter the first number: \"))\n",
        "num2 = int(input(\"Enter the second number: \"))\n",
        "gcd = find_gcd(num1, num2)\n",
        "print(f\"The GCD of {num1} and {num2} is: {gcd}\")\n",
        "\n",
        "\n",
        "\n"
      ],
      "metadata": {
        "colab": {
          "base_uri": "https://localhost:8080/"
        },
        "id": "zpMU9Qxul2n9",
        "outputId": "edbb9fb4-e81c-4820-be68-2db323248bf3"
      },
      "execution_count": 11,
      "outputs": [
        {
          "output_type": "stream",
          "name": "stdout",
          "text": [
            "Enter the first number: 2\n",
            "Enter the second number: 4\n",
            "The GCD of 2 and 4 is: 2\n"
          ]
        }
      ]
    },
    {
      "cell_type": "code",
      "source": [
        "# Function to find the LCM\n",
        "num1 = int(input(\"Enter the first number: \"))\n",
        "num2 = int(input(\"Enter the second number: \"))\n",
        "\n",
        "def find_lcm(num1, num2):\n",
        "    # Find the greater number\n",
        "    greater = max(num1, num2)\n",
        "\n",
        "    while(True):\n",
        "        if((greater % num1 == 0) and (greater % num2 == 0)):\n",
        "            lcm = greater\n",
        "            break\n",
        "        greater += 1\n",
        "\n",
        "    return lcm\n",
        "\n",
        "lcm = find_lcm(num1, num2)\n",
        "print(f\"The LCM of {num1} and {num2} is: {lcm}\")"
      ],
      "metadata": {
        "colab": {
          "base_uri": "https://localhost:8080/"
        },
        "id": "yux-0qvanmSs",
        "outputId": "6f8f0934-059a-48e3-ac03-a38740cabbec"
      },
      "execution_count": 14,
      "outputs": [
        {
          "output_type": "stream",
          "name": "stdout",
          "text": [
            "Enter the first number: 3\n",
            "Enter the second number: 6\n",
            "The LCM of 3 and 6 is: 6\n"
          ]
        }
      ]
    },
    {
      "cell_type": "code",
      "source": [
        "# to calculate the sum of squares of the first N natural numbers\n",
        "def sum_of_squares(n):\n",
        "    total = 0\n",
        "    for i in range(1, n+1):\n",
        "        total += i**2\n",
        "    return total\n",
        "\n",
        "\n",
        "N = int(input(\"Enter a number N: \"))\n",
        "\n",
        "\n",
        "result = sum_of_squares(N)\n",
        "print(f\"The sum of squares of the first {N} natural numbers is: {result}\")\n"
      ],
      "metadata": {
        "colab": {
          "base_uri": "https://localhost:8080/"
        },
        "id": "ftxFyk6roqbb",
        "outputId": "4b8bfec0-4186-496b-f664-9e758f6936af"
      },
      "execution_count": 15,
      "outputs": [
        {
          "output_type": "stream",
          "name": "stdout",
          "text": [
            "Enter a number N: 2\n",
            "The sum of squares of the first 2 natural numbers is: 5\n"
          ]
        }
      ]
    },
    {
      "cell_type": "code",
      "source": [
        "#  to print Pascal's Triangle\n",
        "def print_pascals_triangle(n):\n",
        "    for i in range(n):\n",
        "\n",
        "        print(' ' * (n - i - 1), end='')\n",
        "\n",
        "\n",
        "        number = 1\n",
        "        for j in range(i + 1):\n",
        "\n",
        "            print(number, end=' ')\n",
        "\n",
        "            number = number * (i - j) // (j + 1)\n",
        "\n",
        "\n",
        "        print()\n",
        "\n",
        "n = int(input(\"Enter the number of rows for Pascal's Triangle: \"))\n",
        "print_pascals_triangle(n)\n"
      ],
      "metadata": {
        "colab": {
          "base_uri": "https://localhost:8080/"
        },
        "id": "PH-0pOI-pVEQ",
        "outputId": "fda51338-f731-4d3f-cfa4-c17687580cf6"
      },
      "execution_count": 16,
      "outputs": [
        {
          "output_type": "stream",
          "name": "stdout",
          "text": [
            "Enter the number of rows for Pascal's Triangle: 6\n",
            "     1 \n",
            "    1 1 \n",
            "   1 2 1 \n",
            "  1 3 3 1 \n",
            " 1 4 6 4 1 \n",
            "1 5 10 10 5 1 \n"
          ]
        }
      ]
    }
  ]
}